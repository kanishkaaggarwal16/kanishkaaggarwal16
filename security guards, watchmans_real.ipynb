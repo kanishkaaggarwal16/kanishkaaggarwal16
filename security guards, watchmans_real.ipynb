{
 "cells": [
  {
   "cell_type": "code",
   "execution_count": null,
   "id": "567fc800",
   "metadata": {},
   "outputs": [],
   "source": [
    "import cv2\n",
    "import time\n",
    "from pygame import mixer\n",
    "\n",
    "mixer.init()\n",
    "mixer.music.load(\"fire_alarm.wav\")\n",
    "\n",
    "# Initialize camera and face detection classifier\n",
    "cap = cv2.VideoCapture(0)\n",
    "face_cascade = cv2.CascadeClassifier(cv2.data.haarcascades + 'haarcascade_frontalface_default.xml')\n",
    "\n",
    "# Set time limit to 5 seconds (in seconds)\n",
    "time_limit = 5\n",
    "\n",
    "# Initialize last_seen variable to current time\n",
    "last_seen = time.time()\n",
    "\n",
    "# Start the loop\n",
    "while True:\n",
    "    # Capture frame from camera\n",
    "    ret, frame = cap.read()\n",
    "\n",
    "    # Convert frame to grayscale and detect faces\n",
    "    gray = cv2.cvtColor(frame, cv2.COLOR_BGR2GRAY)\n",
    "    faces = face_cascade.detectMultiScale(gray, 1.3, 5)\n",
    "\n",
    "    # Check if any faces are detected\n",
    "    if len(faces) > 0:\n",
    "        # Update last_seen variable to current time\n",
    "        last_seen = time.time()\n",
    "\n",
    "    # Check if time limit has been exceeded\n",
    "    if time.time() - last_seen > time_limit:\n",
    "        # If time limit exceeded, trigger alarm\n",
    "        mixer.music.play()\n",
    "        print(\"ALARM! You are not here ; WAKE UP ,PLZ WAKE UP\")\n",
    "        break\n",
    "\n",
    "    # Display the frame with detected faces\n",
    "    for (x, y, w, h) in faces:\n",
    "        cv2.rectangle(frame, (x, y), (x + w, y + h), (0, 255, 0), 2)\n",
    "    cv2.imshow('frame', frame)\n",
    "\n",
    "    # Wait for 'q' key to be pressed to exit\n",
    "    if cv2.waitKey(1) & 0xFF == ord('q'):\n",
    "        break\n",
    "\n",
    "# Release camera and close all windows\n",
    "cap.release()\n",
    "cv2.destroyAllWindows()"
   ]
  },
  {
   "cell_type": "code",
   "execution_count": null,
   "id": "61965490",
   "metadata": {},
   "outputs": [],
   "source": []
  },
  {
   "cell_type": "code",
   "execution_count": null,
   "id": "00fe47c1",
   "metadata": {},
   "outputs": [],
   "source": []
  }
 ],
 "metadata": {
  "kernelspec": {
   "display_name": "Python 3 (ipykernel)",
   "language": "python",
   "name": "python3"
  },
  "language_info": {
   "codemirror_mode": {
    "name": "ipython",
    "version": 3
   },
   "file_extension": ".py",
   "mimetype": "text/x-python",
   "name": "python",
   "nbconvert_exporter": "python",
   "pygments_lexer": "ipython3",
   "version": "3.9.16"
  }
 },
 "nbformat": 4,
 "nbformat_minor": 5
}
